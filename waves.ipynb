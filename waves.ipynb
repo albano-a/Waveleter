{
 "cells": [
  {
   "cell_type": "code",
   "execution_count": null,
   "metadata": {},
   "outputs": [],
   "source": [
    "import numpy as np\n",
    "import matplotlib.pyplot as plt\n",
    "plt.style.use(['bmh'])\n",
    "\n",
    "low_cut_freq = 5 # f1\n",
    "low_pass_freq = 10 # f2\n",
    "high_pass_freq = 40 # f3\n",
    "high_cut_freq = 45 # f4\n",
    "\n",
    "samples = 101\n",
    "dt = 4\n",
    "\n",
    "twlet = (np.arange(samples) * (dt / 1000))\n",
    "twlet = np.concatenate((np.flipud(-twlet[1:]), twlet), axis=0)\n",
    "\n",
    "first = ( ((np.pi*high_cut_freq)**2) / (np.pi*high_cut_freq - np.pi*high_pass_freq)) * (pow(np.sinc(high_cut_freq*twlet),2))\n",
    "second = ( ((np.pi*high_pass_freq)**2) / (np.pi*high_cut_freq - np.pi*high_pass_freq)) * (pow(np.sinc(high_pass_freq*twlet),2))\n",
    "third = ( ((np.pi*low_pass_freq)**2) / (np.pi*low_pass_freq - np.pi*low_cut_freq)) * (pow(np.sinc(low_pass_freq*twlet), 2))\n",
    "fourth = ( ((np.pi*low_cut_freq)**2) / (np.pi*low_pass_freq - np.pi*low_cut_freq)) * (pow(np.sinc(low_cut_freq*twlet), 2))\n",
    "\n",
    "wvlet = ((first - second) - (third - fourth))\n",
    "plt.plot(twlet, wvlet)\n",
    "plt.show()"
   ]
  },
  {
   "cell_type": "code",
   "execution_count": null,
   "metadata": {},
   "outputs": [],
   "source": [
    "fft_r = np.abs(np.fft.rfft(wvlet))\n",
    "freqs_r = np.fft.rfftfreq(twlet.shape[0], d=4/1000)\n",
    "fft_r = fft_r / np.max(fft_r)\n",
    "\n",
    "plt.plot(freqs_r, fft_r)\n",
    "plt.show()"
   ]
  },
  {
   "cell_type": "code",
   "execution_count": null,
   "metadata": {},
   "outputs": [],
   "source": []
  },
  {
   "cell_type": "markdown",
   "metadata": {},
   "source": [
    "Klauder Wavelet"
   ]
  },
  {
   "cell_type": "code",
   "execution_count": null,
   "metadata": {},
   "outputs": [],
   "source": [
    "terminal_low_freq = 6 # f1\n",
    "terminal_high_freq = 44 # f2\n",
    "duration = 6 # seconds\n",
    "\n",
    "k = (terminal_high_freq - terminal_low_freq) / duration # rate of change of frequency with time\n",
    "f0 = (terminal_high_freq + terminal_low_freq) / 2 # midfrequency of bandwith\n",
    "i = 1j\n",
    "\n",
    "epsilon = 1e-7\n",
    "klauder = ((np.sin(np.pi * k * twlet * (duration - twlet)) / (np.pi * k * twlet + 1e-14)) * np.exp(2*np.pi*1j*f0*twlet))\n",
    "\n",
    "plt.plot(twlet, np.real(klauder))\n",
    "plt.show()"
   ]
  },
  {
   "cell_type": "code",
   "execution_count": null,
   "metadata": {},
   "outputs": [],
   "source": [
    "fft_k = np.abs(np.fft.rfft(klauder))\n",
    "freqs_k = np.fft.rfftfreq(twlet.shape[0], d=4/1000)\n",
    "fft_k = fft_k / np.max(fft_k)\n",
    "\n",
    "plt.plot(freqs_k, fft_k)\n",
    "plt.show()"
   ]
  },
  {
   "cell_type": "code",
   "execution_count": null,
   "metadata": {},
   "outputs": [],
   "source": []
  }
 ],
 "metadata": {
  "kernelspec": {
   "display_name": "Python 3",
   "language": "python",
   "name": "python3"
  },
  "language_info": {
   "codemirror_mode": {
    "name": "ipython",
    "version": 3
   },
   "file_extension": ".py",
   "mimetype": "text/x-python",
   "name": "python",
   "nbconvert_exporter": "python",
   "pygments_lexer": "ipython3",
   "version": "3.12.1"
  }
 },
 "nbformat": 4,
 "nbformat_minor": 2
}
